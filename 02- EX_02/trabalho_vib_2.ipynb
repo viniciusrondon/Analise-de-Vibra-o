{
 "cells": [
  {
   "cell_type": "markdown",
   "metadata": {},
   "source": [
    "## EXERCÍCIO 01:   \n",
    "\n",
    "    A porta mostrada na figura 12 sofre um movimento rotativo em torno do eixo vertical k, cuja equação do movimento é: \n",
    "\n",
    "        j * o_ponto_ponto + c_t * o_ponto + k_t * o = 0 \n",
    "\n",
    "    # Onde:\n",
    "        \n",
    "        j = 20 [kg*m]\n",
    "        c_t = 48 [N*m*/rad]\n",
    "        k_t = 28,8 [N*m/rad]\n",
    "\n",
    "    São o movimento de inércia de massa, amortecimento viscoso rotativo do amortecedor e a rigidez rotativa da dobradiça da porta, respectivamente da porta e a rigidez rotativa. Determinar e plotar a resposta, deste sistema dinâmico, em função do tempo, quando a porta está abrindo, e discuta seu movimento.\n",
    "\n",
    "    Cconsidere as condições iniciais :\n",
    "\n",
    "        o_0 = 0 [deg]\n",
    "        o_ponto_0 = 4 [rad/s]\n",
    "\n"
   ]
  },
  {
   "cell_type": "markdown",
   "metadata": {},
   "source": [
    "## vibrações com amortecimento viscoso:\n",
    "\n",
    "    # equacao de movimento é dada por :\n",
    "\n",
    "        #    m*x``(t) + c*x`(t) + k*x(t) = 0 \n",
    "\n",
    "    # a solucao é da forma \t:\n",
    "\n",
    "        # x(t) = c*eˆ(s*t)\t\n",
    "\n",
    "    # a equacao caracteristica é : \n",
    "\t\n",
    "        # m*sˆ2 + c*s +k = 0\t\n",
    "\t\n",
    "\t\n",
    "    # e as raizes são:\t\n",
    "\n",
    "        # s_1,2 =( -c +- (cˆ2 - 4*m*k)ˆ0,5) / 2*m\t\n",
    "\t\n",
    "    # e solucao geral é\t:\n",
    "\n",
    "        # x(t) = c_1*eˆs_1*t + C2*e ˆs_2*t\n",
    "\n"
   ]
  },
  {
   "cell_type": "code",
   "execution_count": 10,
   "metadata": {},
   "outputs": [],
   "source": [
    "import numpy as np\n",
    "import matplotlib.pyplot as plt\n",
    "import scipy as signal \n"
   ]
  },
  {
   "cell_type": "code",
   "execution_count": 11,
   "metadata": {},
   "outputs": [],
   "source": [
    "# Características do corpo\n",
    "\n",
    "j = 20.0     # [kg*m]\n",
    "c_t = 48.0   # [N*m*/rad]\n",
    "k_t = 28.8 # [N*m/rad]\n",
    "t = np.arange(0, 100, 0.1)\n",
    "\n",
    "# condições iniciais \n",
    "pos_0 = 0 #[deg] \n",
    "pos_ponto_0 = 4 #[rad/s] \n",
    "\n",
    "\n",
    "#print(t)"
   ]
  },
  {
   "cell_type": "code",
   "execution_count": 12,
   "metadata": {},
   "outputs": [
    {
     "data": {
      "text/plain": [
       "array([-1.2, -1.2])"
      ]
     },
     "execution_count": 12,
     "metadata": {},
     "output_type": "execute_result"
    }
   ],
   "source": [
    "# Raizes da equação característica:\n",
    "\n",
    "#s_1 = complex((c_t*(-1) + ( c_t**2 - 4 * j * k_t)**0,5)/(2 * j))\n",
    "#s_2 = complex((c_t*(-1) - ( c_t**2 - 4 * j * k_t)**0,5)/(2 * j))\n",
    "#s_1\n",
    "#s_2\n",
    "r = np.roots([j, c_t, k_t]) # utilizando a biblioteca numpy\n",
    "r\n"
   ]
  },
  {
   "cell_type": "markdown",
   "metadata": {},
   "source": [
    "## constante de amortecimento crítico e o fator (razao) de amortecimento \n",
    "\n",
    "    amortecimento crítico, Cc, é definido :\t\n",
    "\n",
    "\t    (Cc/2*m)ˆ2 - k/m = 0\t\n",
    "\n",
    "    amortecimento crítico\t:\n",
    "\n",
    "        Cc = 2*(k*m)ˆ0,5 = 2*m*w_n\t[N*s/m]\n",
    "\t\n",
    "\t\n",
    "## para qualquer sistema amortecido, o fator de amortecimento,  \n",
    "\n",
    "    zeta, é definido o como:\n",
    "\n",
    "        zeta = c/Cc\t\n",
    "\t\n",
    "## temos que \t:\n",
    "\n",
    "    c/2*m =( c/ Cc)* Cc/2*m = zeta*w_n\t\n",
    "\t\n",
    "\t\n",
    "## e ,portanto\t\n",
    "    s_1,2 = -zeta*w_n +- w_n*(zetaˆ2 - 1)ˆ0.5\t"
   ]
  },
  {
   "cell_type": "code",
   "execution_count": 13,
   "metadata": {},
   "outputs": [
    {
     "name": "stdout",
     "output_type": "stream",
     "text": [
      "48.0\n",
      "1.2\n",
      "1.0\n"
     ]
    }
   ],
   "source": [
    "# amortecimento crítico\t:\n",
    "\n",
    "c_c = 2 * (k_t*j)**0.5 #[N*s/m]\n",
    "print(c_c)\n",
    "\n",
    "# Frequencia natural:\n",
    "\n",
    "w_n = c_c/(2*j) # [rad/s]\n",
    "print(w_n)\n",
    "\n",
    "# Fator de amortecimento:\n",
    "\n",
    "zeta = c_t/c_c\n",
    "print(zeta)"
   ]
  },
  {
   "cell_type": "markdown",
   "metadata": {},
   "source": [
    "## Vibracao livre não amortecida \t\n",
    "\t\n",
    "    a natureza das raizes s_1 e s_2 2 , portanto, o comportamento da esquacao 2 depende da magnitude do amortecimento. \n",
    "    \n",
    "## Se zeta= 0, teremos o caso da vibracao livre não amortecida\t\n",
    "\t\n",
    "\n",
    "## sistema subamortecido { zeta <1 ou c<Cc ou (c/2*m) < (k/m)ˆ0,5\t}\n",
    "\t\n",
    "    s_1,2 = (- zeta +- i(1-zeta)ˆ0,5) * w_n\t\n",
    "\t\n",
    "    frequencia natural de amortecimento:\n",
    "\n",
    "        w_d = ((1-zetaˆ2)ˆ0,5)*w_n\t\n",
    "\t\n",
    "    entao:\n",
    "\n",
    "         s_1,2 = -zeta*w_n +- i*w_d\t\n",
    "\t\n",
    "    a solucao da equacao 2 pode ser escrita de varias formas :\n",
    "\n",
    "        x(t) = c_1*eˆ((-zeta*w_n+i*w_d)*t) + c_2*eˆ((-zeta*w_n-i*w_d)*t)\t\n",
    "\t\n",
    "        x*eˆ(-zeta*w_n*t)*sin(w_d*t+phi)\t\n",
    "\n",
    "        x_0*eˆ(-zeta*w_n*t)*cos(w_d*t+phi_0)\t\n",
    "\t\n",
    "\n",
    "## sistema criticamente amortecido { zeta=1 ou c=Cc ou\tc/2*m = (k/m)ˆ0,5 }\n",
    "\t\n",
    "    neste caso:\n",
    "\n",
    "        s_1 = s_2 = -Cc/2*m=-w_n\t\n",
    "\t\n",
    "    raizes repetidas:\t\n",
    "\t\n",
    "        x(t) = (c_1 + c_2*t)*eˆ(-w_n*t)\t\n",
    "\t\n",
    "\n",
    "## sistema superamortecido { zeta>1 ou c>Cc\tou c/2*m = (k/m)ˆ0,5 }\n",
    "\t\n",
    "    s_1,2 = (-zeta +- (zetaˆ2 - 1)ˆ0,5)*w_n\t\n",
    "\t\n",
    "    e a solucao é dada por \t:\n",
    "\t\n",
    "        x(t) = c_1*eˆ(((-zeta + (zetaˆ2 - 1)ˆ0,5)*w_n*t) + c_2*eˆ((-zeta - (zetaˆ2 - 1)ˆ0,5)*w_n*t)\t"
   ]
  },
  {
   "cell_type": "code",
   "execution_count": 15,
   "metadata": {},
   "outputs": [
    {
     "ename": "AttributeError",
     "evalue": "Module 'scipy' has no attribute 'lti'",
     "output_type": "error",
     "traceback": [
      "\u001b[1;31m---------------------------------------------------------------------------\u001b[0m",
      "\u001b[1;31mKeyError\u001b[0m                                  Traceback (most recent call last)",
      "File \u001b[1;32mc:\\Users\\Desktop\\anaconda3\\Lib\\site-packages\\scipy\\__init__.py:203\u001b[0m, in \u001b[0;36m__getattr__\u001b[1;34m(name)\u001b[0m\n\u001b[0;32m    202\u001b[0m \u001b[39mtry\u001b[39;00m:\n\u001b[1;32m--> 203\u001b[0m     \u001b[39mreturn\u001b[39;00m \u001b[39mglobals\u001b[39m()[name]\n\u001b[0;32m    204\u001b[0m \u001b[39mexcept\u001b[39;00m \u001b[39mKeyError\u001b[39;00m:\n",
      "\u001b[1;31mKeyError\u001b[0m: 'lti'",
      "\nDuring handling of the above exception, another exception occurred:\n",
      "\u001b[1;31mAttributeError\u001b[0m                            Traceback (most recent call last)",
      "Cell \u001b[1;32mIn[15], line 3\u001b[0m\n\u001b[0;32m      1\u001b[0m numerador \u001b[39m=\u001b[39m [pos_ponto_0]\n\u001b[0;32m      2\u001b[0m denominador \u001b[39m=\u001b[39m [\u001b[39m1\u001b[39m, \u001b[39m2\u001b[39m\u001b[39m*\u001b[39mzeta\u001b[39m*\u001b[39mw_n, w_n\u001b[39m*\u001b[39m\u001b[39m*\u001b[39m\u001b[39m2\u001b[39m]\n\u001b[1;32m----> 3\u001b[0m system \u001b[39m=\u001b[39m signal\u001b[39m.\u001b[39mlti(numerador, denominador)\n\u001b[0;32m      4\u001b[0m t \u001b[39m=\u001b[39m np\u001b[39m.\u001b[39mlinspace(\u001b[39m0\u001b[39m, \u001b[39m10\u001b[39m, num\u001b[39m=\u001b[39m\u001b[39m500\u001b[39m)\n\u001b[0;32m      5\u001b[0m t, response \u001b[39m=\u001b[39m signal\u001b[39m.\u001b[39mimpulse(system, T\u001b[39m=\u001b[39mt, X0\u001b[39m=\u001b[39m\u001b[39mNone\u001b[39;00m)\n",
      "File \u001b[1;32mc:\\Users\\Desktop\\anaconda3\\Lib\\site-packages\\scipy\\__init__.py:205\u001b[0m, in \u001b[0;36m__getattr__\u001b[1;34m(name)\u001b[0m\n\u001b[0;32m    203\u001b[0m     \u001b[39mreturn\u001b[39;00m \u001b[39mglobals\u001b[39m()[name]\n\u001b[0;32m    204\u001b[0m \u001b[39mexcept\u001b[39;00m \u001b[39mKeyError\u001b[39;00m:\n\u001b[1;32m--> 205\u001b[0m     \u001b[39mraise\u001b[39;00m \u001b[39mAttributeError\u001b[39;00m(\n\u001b[0;32m    206\u001b[0m         \u001b[39mf\u001b[39m\u001b[39m\"\u001b[39m\u001b[39mModule \u001b[39m\u001b[39m'\u001b[39m\u001b[39mscipy\u001b[39m\u001b[39m'\u001b[39m\u001b[39m has no attribute \u001b[39m\u001b[39m'\u001b[39m\u001b[39m{\u001b[39;00mname\u001b[39m}\u001b[39;00m\u001b[39m'\u001b[39m\u001b[39m\"\u001b[39m\n\u001b[0;32m    207\u001b[0m     )\n",
      "\u001b[1;31mAttributeError\u001b[0m: Module 'scipy' has no attribute 'lti'"
     ]
    }
   ],
   "source": [
    "numerador = [pos_ponto_0]\n",
    "denominador = [1, 2*zeta*w_n, w_n**2]\n",
    "system = signal.lti(numerador, denominador)\n",
    "t = np.linspace(0, 10, num=500)\n",
    "t, response = signal.impulse(system, T=t, X0=None)\n",
    "plt.plot(t, response)\n",
    "plt.xlabel('Time')\n",
    "plt.ylabel('Amplitude')\n",
    "plt.title('Step Response')\n",
    "plt.grid(True)\n",
    "plt.show()"
   ]
  },
  {
   "cell_type": "code",
   "execution_count": null,
   "metadata": {},
   "outputs": [],
   "source": [
    "if zeta < 1 | c < c_c | c_t/2*j <(k_t/j)**0.5: # sistema subamortecido { zeta <1 ou c<Cc ou (c/2*m) < (k/m)ˆ0,5\t}\n",
    "\n",
    "    #calculo das raizes:\n",
    "\n",
    "    #s_1 = complex((- zeta + i(1-zeta)**0.5) * w_n)\n",
    "    #s_2 = complex((- zeta - i(1-zeta)**0.5) * w_n)\n",
    "    #print(s_1)\n",
    "    #print(s_2)\n",
    "\n",
    "    #frequencia natural de amortecimento:\n",
    "\n",
    "    w_d = ((1-zeta**2)**0.5)*w_n\n",
    "    print(w_d)\n",
    "\n",
    "    # solução:\n",
    "\n",
    "    pos =  \n",
    "\n",
    "elif zeta == 1 or c_t == c_c or\t(c_t/2*j) == ((k_t/k)**0.5) # sistema criticamente amortecido { zeta=1 ou c=Cc ou\tc/2*m = (k/m)ˆ0,5 }\n",
    "\n",
    "    #calculo das raizes:\n",
    "\n",
    "    s_1 = complex((- zeta + i(1-zeta)**0.5) * w_n)\n",
    "    s_2 = complex((- zeta - i(1-zeta)**0.5) * w_n)\n",
    "    print(s_1)\n",
    "    print(s_2)\n",
    "\n",
    "    #frequencia natural de amortecimento:\n",
    "\n",
    "    w_d = ((1-zeta**2)**0.5)*w_n\n",
    "    print(w_d)\n",
    "\n",
    "    # solução:\n",
    "\n",
    "    pos = (c_1 + c_2*t)*np.exp**(-w_n*t)\n",
    "\n",
    "else zeta>1 ou c_t>c_c\tou (c_t/2*j) = ((k_t/j)**0.5)\n",
    "     # sistema superamortecido { zeta>1 ou c>Cc\tou c/2*m = (k/m)ˆ0,5 }"
   ]
  },
  {
   "cell_type": "code",
   "execution_count": 44,
   "metadata": {},
   "outputs": [
    {
     "ename": "SyntaxError",
     "evalue": "invalid syntax (3351477984.py, line 9)",
     "output_type": "error",
     "traceback": [
      "\u001b[0;36m  Cell \u001b[0;32mIn[44], line 9\u001b[0;36m\u001b[0m\n\u001b[0;31m    sistema criticamente amortecido (zeta=1 ou c=Cc\u001b[0m\n\u001b[0m            ^\u001b[0m\n\u001b[0;31mSyntaxError\u001b[0m\u001b[0;31m:\u001b[0m invalid syntax\n"
     ]
    }
   ],
   "source": [
    "# solucao geral :\n",
    "\n",
    "    #Considere as condições iniciais :\n",
    "\n",
    "       # o = 0 [deg]\n",
    "       # o_ponto = 4 [rad/s]\n",
    "\n",
    "#para pos(0) = 0\n",
    "#sistema criticamente amortecido (zeta=1 ou c=Cc\t\n",
    "\t\n",
    "#neste caso\t\n",
    " s_1=s_2=-Cc/2*m=-w_n\t\n",
    "\t\n",
    "#e,por causa das raizes repetidas\t\n",
    "\t\n",
    "x(t) = (c_1 + c_2*t)*eˆ(-w_n*t)\t\n",
    "0 = \n",
    "pos = list(c_1*np.exp**(r[0]*t) + c_2*np.exp**(r[1]*t))"
   ]
  }
 ],
 "metadata": {
  "kernelspec": {
   "display_name": "Python 3",
   "language": "python",
   "name": "python3"
  },
  "language_info": {
   "codemirror_mode": {
    "name": "ipython",
    "version": 3
   },
   "file_extension": ".py",
   "mimetype": "text/x-python",
   "name": "python",
   "nbconvert_exporter": "python",
   "pygments_lexer": "ipython3",
   "version": "3.11.4"
  },
  "orig_nbformat": 4
 },
 "nbformat": 4,
 "nbformat_minor": 2
}

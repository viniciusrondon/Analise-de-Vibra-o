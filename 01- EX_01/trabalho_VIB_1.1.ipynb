{
 "cells": [
  {
   "cell_type": "code",
   "execution_count": 4,
   "id": "c446aa13-2816-4c7c-bbe3-3810311a5d00",
   "metadata": {
    "tags": []
   },
   "outputs": [],
   "source": [
    "import numpy as np"
   ]
  },
  {
   "cell_type": "code",
   "execution_count": 5,
   "id": "6b7d1edc-c52f-4a50-9628-3abf0a315a6a",
   "metadata": {
    "tags": []
   },
   "outputs": [],
   "source": [
    "import matplotlib.pyplot as plt"
   ]
  },
  {
   "cell_type": "code",
   "execution_count": 49,
   "id": "a5fa51bf-4666-44bc-bc12-2542b3270936",
   "metadata": {
    "tags": []
   },
   "outputs": [],
   "source": [
    "t = np.arange(0, 100, 1) # tempo variando de 0 segundos a 100 segundos de 0.1"
   ]
  },
  {
   "cell_type": "code",
   "execution_count": 9,
   "id": "e8eea1fa-bb9c-49c0-8fdf-161d4a23e199",
   "metadata": {
    "tags": []
   },
   "outputs": [
    {
     "name": "stdin",
     "output_type": "stream",
     "text": [
      " 0\n"
     ]
    }
   ],
   "source": [
    "c = input() #sistema sem amortecimento"
   ]
  },
  {
   "cell_type": "code",
   "execution_count": 15,
   "id": "7b94f14f-b6da-4a24-aaca-c408c3eda991",
   "metadata": {
    "tags": []
   },
   "outputs": [],
   "source": [
    "m = 1"
   ]
  },
  {
   "cell_type": "code",
   "execution_count": 33,
   "id": "7bb93e8a-ae8b-4447-b38c-a224261a946d",
   "metadata": {
    "tags": []
   },
   "outputs": [
    {
     "name": "stdin",
     "output_type": "stream",
     "text": [
      "Insira a massa do bloco: 10\n"
     ]
    }
   ],
   "source": [
    "m = float(input('Insira a massa do bloco:'))"
   ]
  },
  {
   "cell_type": "code",
   "execution_count": 39,
   "id": "76ba5952-d441-4188-97ea-b0d3fc8c7274",
   "metadata": {
    "tags": []
   },
   "outputs": [
    {
     "data": {
      "text/plain": [
       "'A massa do bloco é 10.0 kg'"
      ]
     },
     "execution_count": 39,
     "metadata": {},
     "output_type": "execute_result"
    }
   ],
   "source": [
    "('A massa do bloco é {} kg' ).format(m)"
   ]
  },
  {
   "cell_type": "code",
   "execution_count": 40,
   "id": "e0c6079d-437d-4a62-b0a6-1a1697c5c4c8",
   "metadata": {
    "tags": []
   },
   "outputs": [],
   "source": [
    "k = 1"
   ]
  },
  {
   "cell_type": "code",
   "execution_count": 43,
   "id": "ba49bc09-cc72-4b72-960f-726b7073d256",
   "metadata": {
    "tags": []
   },
   "outputs": [
    {
     "name": "stdin",
     "output_type": "stream",
     "text": [
      "Insira a constante elástica: 5\n"
     ]
    }
   ],
   "source": [
    "k = float(input('Insira a constante elástica:'))"
   ]
  },
  {
   "cell_type": "code",
   "execution_count": 44,
   "id": "3ffc87cc-e957-410e-9fcd-bfde8d1a1d1e",
   "metadata": {
    "tags": []
   },
   "outputs": [
    {
     "data": {
      "text/plain": [
       "'A constante elástica 5.0 N/m'"
      ]
     },
     "execution_count": 44,
     "metadata": {},
     "output_type": "execute_result"
    }
   ],
   "source": [
    "('A constante elástica é {} N/m' ).format(k)"
   ]
  },
  {
   "cell_type": "code",
   "execution_count": 80,
   "id": "e99852bb-c23f-463e-9c7f-98c34b15b62c",
   "metadata": {
    "tags": []
   },
   "outputs": [
    {
     "data": {
      "text/plain": [
       "5.0"
      ]
     },
     "execution_count": 80,
     "metadata": {},
     "output_type": "execute_result"
    }
   ],
   "source": [
    "m"
   ]
  },
  {
   "cell_type": "code",
   "execution_count": 47,
   "id": "7ce6140c-3313-44c4-917b-3a1e3e7a54fd",
   "metadata": {
    "tags": []
   },
   "outputs": [
    {
     "data": {
      "text/plain": [
       "1.0"
      ]
     },
     "execution_count": 47,
     "metadata": {},
     "output_type": "execute_result"
    }
   ],
   "source": [
    "wn = np.square(k/m) #frequencia natural\n",
    "wn"
   ]
  },
  {
   "cell_type": "code",
   "execution_count": 92,
   "id": "9f916cb3-ebb6-483e-af95-a4121a88a9b5",
   "metadata": {
    "tags": []
   },
   "outputs": [
    {
     "data": {
      "text/plain": [
       "'A frequencia natural é 1.0 rad/s'"
      ]
     },
     "execution_count": 92,
     "metadata": {},
     "output_type": "execute_result"
    }
   ],
   "source": [
    "('A frequencia natural é {} rad/s' ).format(wn)"
   ]
  },
  {
   "cell_type": "code",
   "execution_count": 71,
   "id": "b067c8b2-1e6f-4fb2-9958-d31957dd3145",
   "metadata": {
    "tags": []
   },
   "outputs": [
    {
     "data": {
      "text/plain": [
       "1j"
      ]
     },
     "execution_count": 71,
     "metadata": {},
     "output_type": "execute_result"
    }
   ],
   "source": [
    "a = complex(0, wn)\n",
    "a"
   ]
  },
  {
   "cell_type": "code",
   "execution_count": 74,
   "id": "66529c81-ee43-4b47-8e60-262131f8428c",
   "metadata": {
    "tags": []
   },
   "outputs": [
    {
     "data": {
      "text/plain": [
       "array([0. +0.j, 0. +1.j, 0. +2.j, 0. +3.j, 0. +4.j, 0. +5.j, 0. +6.j,\n",
       "       0. +7.j, 0. +8.j, 0. +9.j, 0.+10.j, 0.+11.j, 0.+12.j, 0.+13.j,\n",
       "       0.+14.j, 0.+15.j, 0.+16.j, 0.+17.j, 0.+18.j, 0.+19.j, 0.+20.j,\n",
       "       0.+21.j, 0.+22.j, 0.+23.j, 0.+24.j, 0.+25.j, 0.+26.j, 0.+27.j,\n",
       "       0.+28.j, 0.+29.j, 0.+30.j, 0.+31.j, 0.+32.j, 0.+33.j, 0.+34.j,\n",
       "       0.+35.j, 0.+36.j, 0.+37.j, 0.+38.j, 0.+39.j, 0.+40.j, 0.+41.j,\n",
       "       0.+42.j, 0.+43.j, 0.+44.j, 0.+45.j, 0.+46.j, 0.+47.j, 0.+48.j,\n",
       "       0.+49.j, 0.+50.j, 0.+51.j, 0.+52.j, 0.+53.j, 0.+54.j, 0.+55.j,\n",
       "       0.+56.j, 0.+57.j, 0.+58.j, 0.+59.j, 0.+60.j, 0.+61.j, 0.+62.j,\n",
       "       0.+63.j, 0.+64.j, 0.+65.j, 0.+66.j, 0.+67.j, 0.+68.j, 0.+69.j,\n",
       "       0.+70.j, 0.+71.j, 0.+72.j, 0.+73.j, 0.+74.j, 0.+75.j, 0.+76.j,\n",
       "       0.+77.j, 0.+78.j, 0.+79.j, 0.+80.j, 0.+81.j, 0.+82.j, 0.+83.j,\n",
       "       0.+84.j, 0.+85.j, 0.+86.j, 0.+87.j, 0.+88.j, 0.+89.j, 0.+90.j,\n",
       "       0.+91.j, 0.+92.j, 0.+93.j, 0.+94.j, 0.+95.j, 0.+96.j, 0.+97.j,\n",
       "       0.+98.j, 0.+99.j])"
      ]
     },
     "execution_count": 74,
     "metadata": {},
     "output_type": "execute_result"
    }
   ],
   "source": [
    "b = []\n",
    "b = a*t\n",
    "b"
   ]
  },
  {
   "cell_type": "code",
   "execution_count": 86,
   "id": "da33d5c5-3c30-4451-ae07-7c3d4b62413d",
   "metadata": {
    "tags": []
   },
   "outputs": [],
   "source": [
    "c = np.exp(b)\n",
    "c\n",
    "d = np.exp(-b)"
   ]
  },
  {
   "cell_type": "code",
   "execution_count": 87,
   "id": "007ccedb-11dc-4e2a-bb03-e33c34335e8a",
   "metadata": {
    "tags": []
   },
   "outputs": [
    {
     "data": {
      "text/plain": [
       "array([ 1.        -0.j        ,  0.54030231-0.84147098j,\n",
       "       -0.41614684-0.90929743j, -0.9899925 -0.14112001j,\n",
       "       -0.65364362+0.7568025j ,  0.28366219+0.95892427j,\n",
       "        0.96017029+0.2794155j ,  0.75390225-0.6569866j ,\n",
       "       -0.14550003-0.98935825j, -0.91113026-0.41211849j,\n",
       "       -0.83907153+0.54402111j,  0.0044257 +0.99999021j,\n",
       "        0.84385396+0.53657292j,  0.90744678-0.42016704j,\n",
       "        0.13673722-0.99060736j, -0.75968791-0.65028784j,\n",
       "       -0.95765948+0.28790332j, -0.27516334+0.96139749j,\n",
       "        0.66031671+0.75098725j,  0.98870462-0.14987721j,\n",
       "        0.40808206-0.91294525j, -0.54772926-0.83665564j,\n",
       "       -0.99996083+0.00885131j, -0.53283302+0.8462204j ,\n",
       "        0.42417901+0.90557836j,  0.99120281+0.13235175j,\n",
       "        0.64691932-0.76255845j, -0.29213881-0.95637593j,\n",
       "       -0.96260587-0.27090579j, -0.74805753+0.66363388j,\n",
       "        0.15425145+0.98803162j,  0.91474236+0.40403765j,\n",
       "        0.83422336-0.55142668j, -0.01327675-0.99991186j,\n",
       "       -0.84857027-0.52908269j, -0.90369221+0.42818267j,\n",
       "       -0.12796369+0.99177885j,  0.76541405+0.64353813j,\n",
       "        0.95507364-0.29636858j,  0.26664293-0.96379539j,\n",
       "       -0.66693806-0.74511316j, -0.98733928+0.15862267j,\n",
       "       -0.39998531+0.91652155j,  0.5551133 +0.83177474j,\n",
       "        0.99984331-0.01770193j,  0.52532199-0.85090352j,\n",
       "       -0.43217794-0.90178835j, -0.99233547-0.12357312j,\n",
       "       -0.64014434+0.76825466j,  0.30059254+0.95375265j,\n",
       "        0.96496603+0.26237485j,  0.7421542 -0.67022918j,\n",
       "       -0.16299078-0.98662759j, -0.91828279-0.39592515j,\n",
       "       -0.82930983+0.55878905j,  0.02212676+0.99975517j,\n",
       "        0.85322011+0.521551j  ,  0.89986683-0.43616476j,\n",
       "        0.11918014-0.99287265j, -0.77108022-0.63673801j,\n",
       "       -0.95241298+0.30481062j, -0.25810164+0.96611777j,\n",
       "        0.67350716+0.7391807j ,  0.98589658-0.1673557j ,\n",
       "        0.39185723-0.92002604j, -0.56245385-0.82682868j,\n",
       "       -0.99964746+0.02655115j, -0.5177698 +0.85551998j,\n",
       "        0.44014302+0.89792768j,  0.99339038+0.11478481j,\n",
       "        0.6333192 -0.77389068j, -0.30902273-0.95105465j,\n",
       "       -0.96725059-0.25382336j, -0.73619272+0.67677196j,\n",
       "        0.17171734+0.98514626j,  0.92175127+0.38778164j,\n",
       "        0.82433133-0.56610764j, -0.03097503-0.99952016j,\n",
       "       -0.85780309-0.51397846j, -0.89597095+0.44411267j,\n",
       "       -0.11038724+0.99388865j,  0.77668598+0.62988799j,\n",
       "        0.9496777 -0.31322878j,  0.24954012-0.96836446j,\n",
       "       -0.6800235 -0.73319032j, -0.98437664+0.17607562j,\n",
       "       -0.38369844+0.92345845j,  0.56975033+0.82181784j,\n",
       "        0.99937328-0.0353983j ,  0.51017704-0.86006941j,\n",
       "       -0.44807362-0.89399666j, -0.99436746-0.10598751j,\n",
       "       -0.62644445+0.77946607j,  0.3174287 +0.94828214j,\n",
       "        0.96945937+0.24525199j,  0.73017356-0.68326171j,\n",
       "       -0.18043045-0.98358775j, -0.92514754-0.37960774j,\n",
       "       -0.81928825+0.57338187j,  0.03982088+0.99920683j])"
      ]
     },
     "execution_count": 87,
     "metadata": {},
     "output_type": "execute_result"
    }
   ],
   "source": [
    "d"
   ]
  },
  {
   "cell_type": "code",
   "execution_count": 90,
   "id": "82faf8b8-d835-4bec-8f81-1cacfe4697bf",
   "metadata": {
    "tags": []
   },
   "outputs": [
    {
     "data": {
      "text/plain": [
       "array([ 1.        +0.j,  0.54030231+0.j, -0.41614684+0.j, -0.9899925 +0.j,\n",
       "       -0.65364362+0.j,  0.28366219+0.j,  0.96017029+0.j,  0.75390225+0.j,\n",
       "       -0.14550003+0.j, -0.91113026+0.j, -0.83907153+0.j,  0.0044257 +0.j,\n",
       "        0.84385396+0.j,  0.90744678+0.j,  0.13673722+0.j, -0.75968791+0.j,\n",
       "       -0.95765948+0.j, -0.27516334+0.j,  0.66031671+0.j,  0.98870462+0.j,\n",
       "        0.40808206+0.j, -0.54772926+0.j, -0.99996083+0.j, -0.53283302+0.j,\n",
       "        0.42417901+0.j,  0.99120281+0.j,  0.64691932+0.j, -0.29213881+0.j,\n",
       "       -0.96260587+0.j, -0.74805753+0.j,  0.15425145+0.j,  0.91474236+0.j,\n",
       "        0.83422336+0.j, -0.01327675+0.j, -0.84857027+0.j, -0.90369221+0.j,\n",
       "       -0.12796369+0.j,  0.76541405+0.j,  0.95507364+0.j,  0.26664293+0.j,\n",
       "       -0.66693806+0.j, -0.98733928+0.j, -0.39998531+0.j,  0.5551133 +0.j,\n",
       "        0.99984331+0.j,  0.52532199+0.j, -0.43217794+0.j, -0.99233547+0.j,\n",
       "       -0.64014434+0.j,  0.30059254+0.j,  0.96496603+0.j,  0.7421542 +0.j,\n",
       "       -0.16299078+0.j, -0.91828279+0.j, -0.82930983+0.j,  0.02212676+0.j,\n",
       "        0.85322011+0.j,  0.89986683+0.j,  0.11918014+0.j, -0.77108022+0.j,\n",
       "       -0.95241298+0.j, -0.25810164+0.j,  0.67350716+0.j,  0.98589658+0.j,\n",
       "        0.39185723+0.j, -0.56245385+0.j, -0.99964746+0.j, -0.5177698 +0.j,\n",
       "        0.44014302+0.j,  0.99339038+0.j,  0.6333192 +0.j, -0.30902273+0.j,\n",
       "       -0.96725059+0.j, -0.73619272+0.j,  0.17171734+0.j,  0.92175127+0.j,\n",
       "        0.82433133+0.j, -0.03097503+0.j, -0.85780309+0.j, -0.89597095+0.j,\n",
       "       -0.11038724+0.j,  0.77668598+0.j,  0.9496777 +0.j,  0.24954012+0.j,\n",
       "       -0.6800235 +0.j, -0.98437664+0.j, -0.38369844+0.j,  0.56975033+0.j,\n",
       "        0.99937328+0.j,  0.51017704+0.j, -0.44807362+0.j, -0.99436746+0.j,\n",
       "       -0.62644445+0.j,  0.3174287 +0.j,  0.96945937+0.j,  0.73017356+0.j,\n",
       "       -0.18043045+0.j, -0.92514754+0.j, -0.81928825+0.j,  0.03982088+0.j])"
      ]
     },
     "execution_count": 90,
     "metadata": {},
     "output_type": "execute_result"
    }
   ],
   "source": [
    "pos = (m/(2 * k))*c + (m/(2 * k))*d\n",
    "pos"
   ]
  },
  {
   "cell_type": "code",
   "execution_count": 91,
   "id": "d0f08b38-d2fb-4140-a01f-0349aa3a876d",
   "metadata": {
    "tags": []
   },
   "outputs": [
    {
     "name": "stderr",
     "output_type": "stream",
     "text": [
      "C:\\Users\\Desktop\\anaconda3\\Lib\\site-packages\\matplotlib\\cbook\\__init__.py:1335: ComplexWarning: Casting complex values to real discards the imaginary part\n",
      "  return np.asarray(x, float)\n"
     ]
    },
    {
     "data": {
      "image/png": "[encoded data removed]",
      "text/plain": [
       "<Figure size 640x480 with 1 Axes>"
      ]
     },
     "metadata": {},
     "output_type": "display_data"
    }
   ],
   "source": [
    "plt.plot(t, pos)\n",
    "plt.show()"
   ]
  },
  {
   "cell_type": "code",
   "execution_count": 6,
   "id": "68074678-bac0-4c8e-a0d4-ec88d87f6bde",
   "metadata": {
    "tags": []
   },
   "outputs": [
    {
     "ename": "NameError",
     "evalue": "name 'pos' is not defined",
     "output_type": "error",
     "traceback": [
      "\u001b[1;31m---------------------------------------------------------------------------\u001b[0m",
      "\u001b[1;31mNameError\u001b[0m                                 Traceback (most recent call last)",
      "Cell \u001b[1;32mIn[6], line 1\u001b[0m\n\u001b[1;32m----> 1\u001b[0m y \u001b[38;5;241m=\u001b[39m np\u001b[38;5;241m.\u001b[39mfft\u001b[38;5;241m.\u001b[39mfft(pos)\n",
      "\u001b[1;31mNameError\u001b[0m: name 'pos' is not defined"
     ]
    }
   ],
   "source": [
    "y = np.fft.fft(pos)"
   ]
  },
  {
   "cell_type": "code",
   "execution_count": null,
   "id": "16312b35-b767-4357-9e60-16eb261aa43b",
   "metadata": {},
   "outputs": [],
   "source": []
  }
 ],
 "metadata": {
  "kernelspec": {
   "display_name": "Python 3 (ipykernel)",
   "language": "python",
   "name": "python3"
  },
  "language_info": {
   "codemirror_mode": {
    "name": "ipython",
    "version": 3
   },
   "file_extension": ".py",
   "mimetype": "text/x-python",
   "name": "python",
   "nbconvert_exporter": "python",
   "pygments_lexer": "ipython3",
   "version": "3.11.4"
  }
 },
 "nbformat": 4,
 "nbformat_minor": 5
}
